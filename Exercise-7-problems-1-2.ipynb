{
 "cells": [
  {
   "cell_type": "markdown",
   "metadata": {
    "deletable": false,
    "editable": false,
    "nbgrader": {
     "checksum": "5ccb4ad25ca7d65e5c72cf96c158d25a",
     "grade": false,
     "grade_id": "cell-23861decbba1803b",
     "locked": true,
     "schema_version": 1,
     "solution": false
    }
   },
   "source": [
    "# Exercise 7: Quantitative thermochronology, part II\n",
    "\n",
    "This exercise is part 2 of the exercises on thermochronology.\n",
    "In this exercise you will modify this notebook to load [a data file of measured thermochronometer ages](data/Bhutan_age_data.txt), compare the measured ages to predicted ages from your Python code using a goodness-of-fit equation, and plot the results.\n",
    "The goal is to try to minimize the misfit between the predicted and measured thermochronometer ages, and quantify the long-term exhumation rates in the Bhutan Himalaya from different thermochronometers.\n",
    "\n",
    "For each problem you need to modify the given notebook, and then upload your files to GitHub.\n",
    "The answers to the questions in this week's exercise should be given by modifying the document in places where you are asked.\n",
    "Don't forget to include clear comments that explain what happens in each section of your code cells.\n",
    "\n",
    "- **Exercise 7 is due by 12:00 on Monday 17.12.**\n",
    "- Don't forget to check out [the hints for this week's exercise](https://introqg.github.io/qg/lessons/L7/exercise-7.html) if you're having trouble.\n",
    "- Scores on this exercise are out of 20 points."
   ]
  },
  {
   "cell_type": "markdown",
   "metadata": {
    "deletable": false,
    "editable": false,
    "nbgrader": {
     "checksum": "1352c2045ab94b90930796fa73bb3f8d",
     "grade": false,
     "grade_id": "cell-861bfc678043e626",
     "locked": true,
     "schema_version": 1,
     "solution": false
    }
   },
   "source": [
    "## Overview\n",
    "\n",
    "![Bhutan Himalaya](img/Bhutan_Himalaya.png)<br/>\n",
    "*Figure 1. The Himalaya in Bhutan. [Image source](http://commons.wikimedia.org/wiki/File:View_of_Gasa_Dzong.JPG).*\n",
    "\n",
    "The overall goal of this exercise is to use our heat transfer model to interpret [a thermochronometer dataset from the Himalaya of Bhutan](data/Bhutan_age_data.txt).\n",
    "The interpretation entails determining long-term average rock exhumation rates from rock samples analyzed using apatite and zircon (U-Th)/He, and muscovite <sup>40</sup>Ar/<sup>39</sup>Ar thermochronology.\n",
    "As you will recall, [our exercise last week](https://github.com/IntroQG-2018/Exercise-6) used a 1-D time-dependent solution to the advection-diffusion equation to calculate a temperature-depth profile in the Earth, which was then used to predict thermochronometer ages based on Dodson's method.\n",
    "In that model we specified a rock advection velocity and observed variations in the thermochronometer ages as a function of this  velocity, also known as the exhumation rate.\n",
    "This week we will compare those predicted thermochronometer ages to data from Bhutan with the goal of minimizing the misfit between the measured and predicted thermochronometer ages by varying the specified rock advection velocity (exhumation rate), which will allow us to define a best-fit exhumation rate (or exhumation history) for the Himalaya of Bhutan.\n",
    "For this exercise, we will be using data from [Coutand et al., 2014](https://dx.doi.org/10.1002/2013JB010891) and [Stüwe and Foster, 2001](https://www.sciencedirect.com/science/article/pii/S1367912000000183) (PDFs available on the [main course page](https://introqg.github.io/qg/final-paper/articles.html))."
   ]
  },
  {
   "cell_type": "markdown",
   "metadata": {
    "deletable": false,
    "editable": false,
    "nbgrader": {
     "checksum": "12462fbedc902a381f8827d91cacb173",
     "grade": false,
     "grade_id": "cell-3896802389db7b0f",
     "locked": true,
     "schema_version": 1,
     "solution": false
    }
   },
   "source": [
    "## Problem 1 - Comparing thermochronometer ages, again (12 points)\n",
    "\n",
    "In this problem you will modify the Python cells below to read in a data file of thermochronometer data and compare the data to predictions from the simple numerical model used in [Exercise 6](https://github.com/IntroQG-2018/Exercise-6).\n",
    "After making these changes you will modify the plotting to shown not only the the geotherm and particle cooling history used in Exercise 6, but also the age data from the data file and the predicted thermochronometer ages."
   ]
  },
  {
   "cell_type": "markdown",
   "metadata": {
    "deletable": false,
    "editable": false,
    "nbgrader": {
     "checksum": "8f0d427ea0865b19677357bbdc15bf4a",
     "grade": false,
     "grade_id": "cell-11de98ec564ab2b8",
     "locked": true,
     "schema_version": 1,
     "solution": false
    }
   },
   "source": [
    "### Problem 1, Part 1: Redoing Exercise 6 (2 points)\n",
    "\n",
    "The first task in this problem is to edit the Python cell below to contain the changes you were asked to make in [Exercise 6](https://github.com/IntroQG-2018/Exercise-6).\n",
    "Basically, you have the same Python cells we started with last week in Exercise 6, and we want to keep the changes made in that exercise by editing the cell below.\n",
    "Note that only one cell need to be edited (the one that is not read-only).\n",
    "\n",
    "For this part you should:\n",
    "\n",
    "- Run the first *four* Python cells below.\n",
    "- Edit the cell containing the `age_predict` function to do the following things from [Exercise 6](https://github.com/IntroQG-2018/Exercise-6):\n",
    "    - Add axis labels and a title to the plot it produces.\n",
    "    - Add the advection velocity to your the plot using the `plt.text()` function.\n",
    "    - Display the predicted apatite (U-Th)/He, zircon (U-Th)/He, and muscovite $^{40}$Ar/$^{39}$Ar ages and predicted closure temperatures on the plot using the `plt.text()` function.\n",
    "        - As before, I suggest that you use the text plotting function near the bottom of the `age_predict` function where the predicted ages are printed to the screen (if requested).\n",
    "- Run the Python cell containing the `age_predict` function to store the updated version in memory.\n",
    "- Call the `age_predict` function with calculation of the all three thermochronometer ages enabled.\n",
    "    - As before, look at the definition of `age_predict` to see how to set the flags (`True`/`False` parameters) that allow you to enable the calculation of different thermochronometers.\n",
    "    - This should reproduce Figure 9 from Exercise 6.\n",
    "- Add a figure caption for the plot in the cell beneath it describing it as if it were in a scientific journal article."
   ]
  },
  {
   "cell_type": "code",
   "execution_count": null,
   "metadata": {
    "deletable": false,
    "editable": false,
    "nbgrader": {
     "checksum": "fa3885d8d5e88a09bdccf28763612c83",
     "grade": false,
     "grade_id": "cell-a0927e9acc1b1280",
     "locked": true,
     "schema_version": 1,
     "solution": false
    }
   },
   "outputs": [],
   "source": [
    "# Configure Matplotlib plotting\n",
    "%matplotlib inline"
   ]
  },
  {
   "cell_type": "code",
   "execution_count": null,
   "metadata": {
    "deletable": false,
    "editable": false,
    "nbgrader": {
     "checksum": "a76639acd120f982f5c74c6f1cfeaf31",
     "grade": false,
     "grade_id": "cell-c67aac98362353b9",
     "locked": true,
     "schema_version": 1,
     "solution": false
    }
   },
   "outputs": [],
   "source": [
    "# Import modules\n",
    "import numpy as np\n",
    "import matplotlib.pyplot as plt\n",
    "from scipy.special import erfc"
   ]
  },
  {
   "cell_type": "code",
   "execution_count": null,
   "metadata": {
    "deletable": false,
    "editable": false,
    "nbgrader": {
     "checksum": "034be15348b611e4949c28db9d78c0dc",
     "grade": false,
     "grade_id": "cell-8357ac2da896c4e0",
     "locked": true,
     "schema_version": 1,
     "solution": false
    }
   },
   "outputs": [],
   "source": [
    "def temp_1D(z, time, g_initial, vz, kappa):\n",
    "    \"\"\"Calculate solution to 1D transient advection-diffusion heat transfer equation.\n",
    "    \n",
    "    Keyword arguments:\n",
    "    z -- array of depths from surface (units: km)\n",
    "    time -- array of time since model start (units: m)\n",
    "    g_initial -- initial temperature gradient (units: deg. C / km)\n",
    "    vz -- vertical advection velocity (units: km / Ma)\n",
    "    kappa -- thermal diffusivity (units: km^2 / Ma)\n",
    "    \"\"\"\n",
    "    # Calculate T separately for case where t = 0 to avoid divide-by-zero warnings\n",
    "    if time == 0:\n",
    "        temperature = g_initial * z\n",
    "    else:\n",
    "        temperature = g_initial * (z + vz * time) + (g_initial / 2.0) * ((z - vz * time) *\\\n",
    "                      np.exp(-(vz * z) / kappa) * erfc((z - vz * time) / (2.0 * np.sqrt(kappa *time))) -\\\n",
    "                      (z + vz * time) * erfc((z + vz * time) / (2.0 * np.sqrt(kappa * time))))\n",
    "    return temperature"
   ]
  },
  {
   "cell_type": "code",
   "execution_count": null,
   "metadata": {
    "deletable": false,
    "editable": false,
    "nbgrader": {
     "checksum": "2204eb8a14ed0cddcbef1eb7243d49f1",
     "grade": false,
     "grade_id": "cell-684e961cd5485c3b",
     "locked": true,
     "schema_version": 1,
     "solution": false
    }
   },
   "outputs": [],
   "source": [
    "def dodson(tau, temp_hist, temp_hist_prev, time, time_prev, age, tc_prev, ea, dtdt, a, d0a2, r):\n",
    "    \"\"\"Calculate thermochronometer age and closure temperature using Dodson's method.\n",
    "    \n",
    "    Keyword arguments:\n",
    "    tau -- diffusivity characteristic time (units: Ma)\n",
    "    temp_hist -- current temperature in history (units: deg. C)\n",
    "    temp_hist_prev -- temperature from last iteration (units: deg. C)\n",
    "    time -- time until end of simulation (units: Ma)\n",
    "    time_prev -- previous time until end of simulation (units: Ma)\n",
    "    age -- previous calculated thermochronometer age (units: Ma)\n",
    "    tc_prev -- previous calculated closure temperature (units: deg. C)\n",
    "    ea -- activation energy (units: J / mol)\n",
    "    dtdt -- cooling rate (units: deg. C / Ma)\n",
    "    a -- geometric factor (25 for a sphere, 8.7 for a planar sheet)\n",
    "    d0a2 -- diffusivity at infinite temperature over domain squared (units: 1 / s)\n",
    "    r -- universal gas constant (units: J / (mol K))\n",
    "    \"\"\"\n",
    "    # Calculate diffusivity characteristic time\n",
    "    tau = (r * (temp_hist + 273.15)**2.0) / (ea * dtdt)\n",
    "    # Calculate new closure temperature\n",
    "    tc = ea / (r * np.log(a * tau * d0a2)) - 273.15\n",
    "    # Calculate new cooling age if temperature is above tc\n",
    "    if temp_hist > tc:\n",
    "        ratio = (tc_prev - temp_hist_prev)/(tc_prev - temp_hist_prev + temp_hist - tc)\n",
    "        age = time + (time_prev - time) * ratio\n",
    "    tc_prev = tc\n",
    "    return age, tc, tc_prev"
   ]
  },
  {
   "cell_type": "markdown",
   "metadata": {
    "deletable": false,
    "editable": false,
    "nbgrader": {
     "checksum": "1873d3709a5f2596414df84b858e5ca5",
     "grade": false,
     "grade_id": "cell-9fd25192efc7669e",
     "locked": true,
     "schema_version": 1,
     "solution": false
    }
   },
   "source": [
    "Edit only the Python cell below."
   ]
  },
  {
   "cell_type": "code",
   "execution_count": null,
   "metadata": {},
   "outputs": [],
   "source": [
    "def age_predict(plot_time0=True, plot_temp_z_hist=False, n_temp_plot=1,\n",
    "                temp_gradient=10.0, time_total=50.0, vz=0.5, calc_ahe=False,\n",
    "                calc_zhe=False, calc_mar=False):\n",
    "    \"\"\"Calculate transient 1D thermal solution and predict thermochronometer ages.\n",
    "    \n",
    "    Keyword arguments:\n",
    "    plot_time0 -- plot the initial thermal solution (default: True)\n",
    "    plot_temp_z_history -- plot the temperature-depth history of the tracked particle (default: False)\n",
    "    n_temp_plot -- number of temperature profiles to plot (default: 1)\n",
    "    temp_gradient -- initial thermal gradient (units: deg. C / km; default: 10.0)\n",
    "    time_total -- total thermal model simulation time (units: Ma; default: 50.0)\n",
    "    vz -- vertical advection velocity (units: km/Ma; default: 0.5)\n",
    "    calc_ahe -- calculate apatite (U-Th)/He age (default: False)\n",
    "    calc_zhe -- calculate zircon (U-Th)/He age (default: False)\n",
    "    calc_mar -- calculate muscovite 40Ar/39Ar age (default: False)\n",
    "    \"\"\"\n",
    "\n",
    "    # THERMAL MODEL PARAMETERS\n",
    "    z_max = 50.0            # Thermal model thickness [km]\n",
    "    kappa = 32.0            # Thermal diffusivity [km2 / Ma]\n",
    "    npz = 101               # Number of depth points for temperature calculation\n",
    "    npt = 401               # Number of times for temperature calculation\n",
    "    high_temp = 1000.0      # Temperature to assign if tracked particle depth exceeds zmax\n",
    "    \n",
    "    # CLOSURE TEMPERATURE PARAMETERS\n",
    "    # Apatite (U-Th)/He\n",
    "    size_ahe = 100.0        # Apatite grain size [um]\n",
    "    ea_ahe = 138.0e3        # Activation energy [J/mol]\n",
    "    a_ahe = 25.0            # Geometry factor [25 for sphere]\n",
    "    d0_ahe = 5.0e-3         # Diffusivity at infinite temperature [m2/s]\n",
    "    tau_ahe = 1.0           # Initial guess for characteristic time\n",
    "\n",
    "    # Zircon (U-Th)/He\n",
    "    size_zhe = 100.0        # Zircon grain size [um]\n",
    "    ea_zhe = 168.0e3        # Activation energy [J/mol]\n",
    "    a_zhe = 25.0            # Geometry factor [25 for sphere]\n",
    "    d0_zhe = 4.6e-5         # Diffusivity at infinite temperature [m2/s]\n",
    "    tau_zhe = 1.0           # Initial guess for characteristic time\n",
    "\n",
    "    # Muscovite Ar/Ar\n",
    "    size_mar = 500.0        # Muscovite grain size [um]\n",
    "    ea_mar = 183.0e3        # Activation energy [J/mol]\n",
    "    a_mar = 8.7             # Geometry factor [8.7 for planar sheet]\n",
    "    d0_mar = 3.3e-6         # Diffusivity at infinite temperature [m2/s]\n",
    "    tau_mar = 1.0           # Initial guess for characteristic time\n",
    "\n",
    "    # OTHER CONSTANTS\n",
    "    r = 8.314               # Universal gas constant\n",
    "\n",
    "    # Set initial thermochronometer ages\n",
    "    age_ahe = time_total\n",
    "    age_zhe = time_total\n",
    "    age_mar = time_total\n",
    "\n",
    "    # Convert units\n",
    "    size_ahe = size_ahe / 1.0e6 / 1.0e3                                     # um -> km\n",
    "    size_zhe = size_zhe / 1.0e6 / 1.0e3                                     # um -> km\n",
    "    size_mar = size_mar / 1.0e6 / 1.0e3                                     # um -> km\n",
    "    d0_ahe = d0_ahe * (1 / 1000.0**2.0) * (1.0e6 * 365.25 * 24.0 * 3600.0)  # m2/s -> km2/Ma\n",
    "    d0_zhe = d0_zhe * (1 / 1000.0**2.0) * (1.0e6 * 365.25 * 24.0 * 3600.0)  # m2/s -> km2/Ma\n",
    "    d0_mar = d0_mar * (1 / 1000.0**2.0) * (1.0e6 * 365.25 * 24.0 * 3600.0)  # m2/s -> km2/Ma\n",
    "\n",
    "    # Calculate diffusion parameter D0/a2 for each mineral\n",
    "    d0a2_ahe = d0_ahe / size_ahe**2.0    # Apatite\n",
    "    d0a2_zhe = d0_zhe / size_zhe**2.0    # Zircon\n",
    "    d0a2_mar = d0_mar / size_mar**2.0    # Muscovite\n",
    "\n",
    "    # Create thermal model arrays\n",
    "    z = np.linspace(0.0, z_max, npz)                    # Define depth range array\n",
    "    time = np.linspace(0.0, time_total, npt)            # Define time range array\n",
    "    time_ma = np.linspace(time_total, 0.0, npt)         # Define time array in Ma (time before present)\n",
    "    z_hist = np.linspace(time_total*vz, 0.0, npt)       # Define z particle position history\n",
    "    temp_hist = np.zeros(len(time))                     # Define initial temperature history array\n",
    "    temp = np.zeros(len(z))                             # Define initial temperature array\n",
    "\n",
    "    # Define increment for ploting output\n",
    "    iout = int(float(len(time)-1)/float(n_temp_plot))\n",
    "\n",
    "    # Create a plot window\n",
    "    plt.figure(figsize=(10,7))\n",
    "\n",
    "    # Loop over all times and calculate temperature\n",
    "    for i in range(len(time)):\n",
    "        # Calculate temperature at time[i]\n",
    "        temp = temp_1D(z, time[i], temp_gradient, vz, kappa)\n",
    "        \n",
    "        # Set the temperature history temperature to high_temp if the tracked particle\n",
    "        # depth is below z_max (where temperature would be undefined)\n",
    "        if z_hist[i] > max(z):\n",
    "            temp_hist[i] = high_temp\n",
    "        # Otherwise, store the current temperature at the depth of the tracked particle\n",
    "        else:\n",
    "            temp_hist[i] = temp_1D(z_hist[i], time[i], temp_gradient, vz, kappa)\n",
    "\n",
    "        # If plotting of the initial geotherm is requested, make the plot\n",
    "        if plot_time0 and i == 0:\n",
    "            plt.plot(temp,-z,label=str(time_ma[i])+\" Ma\")\n",
    "\n",
    "        # If the current iteration is one of the plotting increments, make the plot\n",
    "        if i == iout:\n",
    "            iout = iout + int(float(len(time))/float(n_temp_plot))\n",
    "            plt.plot(temp,-z,label=str(time_ma[i])+\" Ma\")\n",
    "\n",
    "    # Set the initial closure temperatures for the previous step to one\n",
    "    tc_ahe_prev = 1.0\n",
    "    tc_zhe_prev = 1.0\n",
    "    tc_mar_prev = 1.0\n",
    "\n",
    "    # Set the previous temperature to the max value in the current temperature array\n",
    "    temp_hist_prev = max(temp)\n",
    "\n",
    "    # Loop over all positions in the temperature history array\n",
    "    for i in range(len(temp_hist)):\n",
    "        # Calculate the cooling rate for the first temperature value\n",
    "        if i == 0:\n",
    "            dtdt = (temp_hist[i] - temp_hist[i+1]) / (time_ma[i] - time_ma[i+1])\n",
    "        # Calculate the cooling rate for the last temperature value\n",
    "        elif i == len(temp_hist)-1:\n",
    "            dtdt = (temp_hist[i-1] - temp_hist[i]) / (time_ma[i-1] - time_ma[i])\n",
    "        # Calculate the cooling rate for the the intermediate temperature values\n",
    "        else:\n",
    "            dtdt = (temp_hist[i-1] - temp_hist[i+1]) / (time_ma[i-1] - time_ma[i+1])\n",
    "\n",
    "        # Ensure the cooling rate is at least 1 deg. C per 10 Ma\n",
    "        dtdt = max(dtdt, 0.1 / (1.0e6 * 365.25 * 24.0 * 3600.0))\n",
    "\n",
    "        # Calculate apatite (U-Th)/He closure temperature if requested\n",
    "        if calc_ahe:\n",
    "            age_ahe, tc_ahe, tc_ahe_prev = dodson(tau_ahe, temp_hist[i], temp_hist_prev, time_ma[i],\n",
    "                                                  time_ma[i-1], age_ahe, tc_ahe_prev, ea_ahe, dtdt,\n",
    "                                                  a_ahe, d0a2_ahe, r)\n",
    "\n",
    "        # Calculate zircon (U-Th)/He closure temperature if requested\n",
    "        if calc_zhe:\n",
    "            age_zhe, tc_zhe, tc_zhe_prev = dodson(tau_zhe, temp_hist[i], temp_hist_prev, time_ma[i],\n",
    "                                                  time_ma[i-1], age_zhe, tc_zhe_prev, ea_zhe, dtdt,\n",
    "                                                  a_zhe, d0a2_zhe, r)\n",
    "\n",
    "        # Calculate muscovite Ar/Ar closure temperature if requested\n",
    "        if calc_mar:\n",
    "            age_mar, tc_mar, tc_mar_prev = dodson(tau_mar, temp_hist[i], temp_hist_prev, time_ma[i],\n",
    "                                                  time_ma[i-1], age_mar, tc_mar_prev, ea_mar, dtdt,\n",
    "                                                  a_mar, d0a2_mar, r)\n",
    "\n",
    "        # Store previous temperature in thermal history\n",
    "        temp_hist_prev = temp_hist[i]\n",
    "\n",
    "    # Write apatite (U-Th)/He age to screen if requested\n",
    "    if calc_ahe:\n",
    "        print(\"Apatite (U-Th)/He age: {0:.2f} Ma\".format(age_ahe))\n",
    "\n",
    "    # Write zircon (U-Th)/He age to screen if requested\n",
    "    if calc_zhe:\n",
    "        print(\"Zircon (U-Th)/He age: {0:.2f} Ma\".format(age_zhe))\n",
    "\n",
    "    # Write muscovite Ar/Ar age to screen if requested\n",
    "    if calc_mar:\n",
    "        print(\"Muscovite Ar/Ar age: {0:.2f} Ma\".format(age_mar))\n",
    "\n",
    "    # Plot particle depth-temperature history if requested\n",
    "    if plot_temp_z_hist:\n",
    "        plt.plot(temp_hist,-z_hist,'o', label=\"Thermal history\")\n",
    "\n",
    "    # Label axes and add title\n",
    "    plt.xlabel(\"\")\n",
    "    plt.ylabel(\"\")\n",
    "    plt.title(\"\")\n",
    "\n",
    "    # Display line legend\n",
    "    plt.legend()"
   ]
  },
  {
   "cell_type": "markdown",
   "metadata": {
    "deletable": false,
    "editable": false,
    "nbgrader": {
     "checksum": "d856df95b3da9184ebc73edce27da23b",
     "grade": false,
     "grade_id": "cell-d595cf671e5d6d49",
     "locked": true,
     "schema_version": 1,
     "solution": false
    }
   },
   "source": [
    "Call the updated `age_predict` function in the cell below."
   ]
  },
  {
   "cell_type": "code",
   "execution_count": null,
   "metadata": {
    "deletable": false,
    "nbgrader": {
     "checksum": "2a2e7f2cabc522347bd9c0ccf13e563a",
     "grade": true,
     "grade_id": "exercise_6_plot",
     "locked": false,
     "points": 1,
     "schema_version": 1,
     "solution": true
    }
   },
   "outputs": [],
   "source": [
    "# YOUR CODE HERE\n",
    "raise NotImplementedError()"
   ]
  },
  {
   "cell_type": "markdown",
   "metadata": {
    "deletable": false,
    "nbgrader": {
     "checksum": "ebcff7e0646b948cba44120e23659a39",
     "grade": true,
     "grade_id": "exercise_6_caption",
     "locked": false,
     "points": 1,
     "schema_version": 1,
     "solution": true
    }
   },
   "source": [
    "YOUR ANSWER HERE"
   ]
  },
  {
   "cell_type": "markdown",
   "metadata": {
    "deletable": false,
    "editable": false,
    "nbgrader": {
     "checksum": "8c7f1c622150159f78d6fc0822462272",
     "grade": false,
     "grade_id": "cell-81f12261ac6dd545",
     "locked": true,
     "schema_version": 1,
     "solution": false
    }
   },
   "source": [
    "### Problem 1, Part 2: Reading the age data (3 points)\n",
    "\n",
    "In order to be able to compare our predicted thermochronometer ages to some data, we'll next need to load [the data file](data/Bhutan_age_data.txt).\n",
    "Using the past exercises as examples (look at those notebooks :) ), you should edit the `age_predict` function cell to read a data file and store the contents in different variables in the code.\n",
    "The data file has a header that lists the data contained in each column (don't forget to skip over this header when reading the file).\n",
    "\n",
    "For this part you should:\n",
    "\n",
    "- Add some lines to the `age_predict` function to read [the data file](data/Bhutan_age_data.txt) into a variable called `data` using the NumPy `genfromtxt` function.\n",
    "    - I suggest you read the data file after the predicted thermochronometer ages are calculated.\n",
    "- Split the data file into separate column arrays called `longitude`, `latitude`, `elevation`, `ahe_measured`, `ahe_error`, `zhe_measured`, `zhe_stdev`, `mar_measured`, `mar_error`.\n",
    "- Remove missing age data from each of the age data and uncertainty column arrays.\n",
    "    - Measured ages are listed for each sample location in the data file, but not every sample has been analyzed for each different thermochronometer system.\n",
    "    Thus, there are ages of '`-9999`' listed in the data file.\n",
    "    Those ages are listed there to indicate there is no corresponding measured age for that thermochronometer system at that sample location.\n",
    "    You can remove the missing data as follows\n",
    "        - Use a condition that all age data must be positive for a given age array (e.g., `ahe_measured`) .\n",
    "        - Store the age data that meet the condition in a new array that only includes positive values (e.g., `ahe_measured_clean`\n",
    "        - Use the same condition to store measurement uncertainties only for positive ages.\n",
    "        - Store these uncertainties in a corresponding array (e.g., `ahe_error_clean`).\n",
    "        - If you're having trouble, check out [the hints for this week's exercise](https://introqg.github.io/qg/lessons/L7/exercise-7.html)!\n",
    "- Run the Python cell containing the `age_predict` function to store the updated version in memory.\n",
    "- Call the `age_predict` function in the cell below just to make sure it works. There is no need to save the plot or include a caption for this part."
   ]
  },
  {
   "cell_type": "code",
   "execution_count": null,
   "metadata": {
    "deletable": false,
    "nbgrader": {
     "checksum": "93f4f4aa58dc71a757ca75bcac9813e4",
     "grade": true,
     "grade_id": "reading_data",
     "locked": false,
     "points": 3,
     "schema_version": 1,
     "solution": true
    }
   },
   "outputs": [],
   "source": [
    "# YOUR CODE HERE\n",
    "raise NotImplementedError()"
   ]
  },
  {
   "cell_type": "markdown",
   "metadata": {
    "deletable": false,
    "editable": false,
    "nbgrader": {
     "checksum": "82fee3ba0c231c13b8648e20ceae15ce",
     "grade": false,
     "grade_id": "cell-e5955bee20917a6f",
     "locked": true,
     "schema_version": 1,
     "solution": false
    }
   },
   "source": [
    "### Problem 1, Part 3: Calculating a goodness-of-fit, again (2 points)\n",
    "\n",
    "Your next task is to define a function to calculate the goodness-of-fit using the reduced chi-squared equation introduced in Exercise 2,\n",
    "\n",
    "\\begin{equation}\n",
    "  \\Large\n",
    "  \\chi^{2} = \\frac{1}{N} \\sum \\frac{(O_{i} - E_{i})^{2}}{\\sigma_{i}^2}\n",
    "\\end{equation}\n",
    "\n",
    "where $N$ is the number of ages, $O_{i}$ is the $i$th measured age, $E_{i}$ is the $i$th predicted age, and $\\sigma_{i}$ is the $i$th standard deviation.\n",
    "\n",
    "For this part you should:\n",
    "\n",
    "- Create a function called `chi_squared` that can be used to calculate the reduced chi-squared value for the data in the age data file.\n",
    "    - **NOTE**: We will be using this reduced chi-squared equation to calculate the misfit between each measured age and a single predicted age for a given thermochronometer system. Thus, when you create your `chi_squared` function it should assume you call it with a list or array of measured ages and a single predicted age (rather than a list of predicted ages).\n",
    "    - If you're having trouble, check out [the hints for this week's exercise](https://introqg.github.io/qg/lessons/L7/exercise-7.html)!\n",
    "- Modify the cell containing the `age_predict` function to call your `chi_squared` function any time predicted ages are calculated for one of the thermochronometer systems.\n",
    "    - This should be done below the part of the function that reads the data file.\n",
    "    - Store the misfit values as `ahe_misfit`, `zhe_misfit`, and `mar_misfit`.\n",
    "    - Remember to use the \"`clean`\" age and uncertainty variables when calculating the misfits.\n",
    "- Run the Python cell containing the `age_predict` function to store the updated version in memory.\n",
    "- Call the `age_predict` function in the cell below the `chi_squared` function tests just to make sure it works. There is no need to save the plot or include a caption for this part."
   ]
  },
  {
   "cell_type": "code",
   "execution_count": null,
   "metadata": {
    "deletable": false,
    "nbgrader": {
     "checksum": "3c494b18cab93b1f22fc0319c8e166ca",
     "grade": false,
     "grade_id": "chi_squared",
     "locked": false,
     "schema_version": 1,
     "solution": true
    }
   },
   "outputs": [],
   "source": [
    "def chi_squared(measured, predicted, std):\n",
    "    \"\"\"Returns the reduced chi-squared value for input age data.\"\"\"\n",
    "# YOUR CODE HERE\n",
    "raise NotImplementedError()"
   ]
  },
  {
   "cell_type": "code",
   "execution_count": null,
   "metadata": {
    "deletable": false,
    "editable": false,
    "nbgrader": {
     "checksum": "b94a951811c8a57528d9c60d8ec049d5",
     "grade": true,
     "grade_id": "chi_squared_tests",
     "locked": true,
     "points": 1,
     "schema_version": 1,
     "solution": false
    }
   },
   "outputs": [],
   "source": [
    "measured_ages = [2.0, 3.0, 1.2, 2.4, 3.5]\n",
    "predicted_age = 1.5\n",
    "std_dev = [1.0, 0.4, 0.7, 0.2, 0.6]\n",
    "\n",
    "print('The goodness-of-fit should be 9.1715. My goodness-of-fit is {0:.4f}.'.format(chi_squared(measured_ages, predicted_age, std_dev)))"
   ]
  },
  {
   "cell_type": "code",
   "execution_count": null,
   "metadata": {
    "deletable": false,
    "nbgrader": {
     "checksum": "18680630698b7c294608053234681f27",
     "grade": true,
     "grade_id": "chi_squared_call",
     "locked": false,
     "points": 1,
     "schema_version": 1,
     "solution": true
    }
   },
   "outputs": [],
   "source": [
    "# YOUR CODE HERE\n",
    "raise NotImplementedError()"
   ]
  },
  {
   "cell_type": "markdown",
   "metadata": {
    "deletable": false,
    "editable": false,
    "nbgrader": {
     "checksum": "5f0a0b8cd654d6a52e680f6a0a4e84d8",
     "grade": false,
     "grade_id": "cell-89b906e3051a01a0",
     "locked": true,
     "schema_version": 1,
     "solution": false
    }
   },
   "source": [
    "### Problem 1, Part 4: Visualizing the data fit (5 points)\n",
    "\n",
    "The last task in this problem is to produce a useful plot.\n",
    "\n",
    "For this part you should:\n",
    "\n",
    "- Edit the cell with the `age_predict` function to:\n",
    "    - Use the `plt.subplot()` command to make a plot that shows (a) the predicted geotherm and particle temperature-depth history in the upper panel (i.e., the plot from Exercise 6), and (b) the predicted and measured age data on the lower panel.\n",
    "    - For the lower plot:\n",
    "        - The *x*-axis should plot latitude and the *y*-axis should plot thermochronometer age, including vertical error bars for the measured ages.\n",
    "            - Use the full measured age arrays here, not the \"`clean`\" variable versions.\n",
    "        - Plot the different thermochronometer systems with different symbol colors.\n",
    "        - The predicted ages can be shown using lines of constant age that have a range that includes the entire range of latitude of the measured age data. Their colors should match the corresponding measured age colors.\n",
    "        - This plot should also list the goodness-of-fit values for each thermochronometer system, as well as a total goodness-of-fit for the age dataset. You can use the `plt.text()` function for this.\n",
    "- Re-run the Python cell containing the `age_predict` function to store the updated version in memory.\n",
    "- Call the age_predict function with calculation of the all three thermochronometer ages **and** the time-temperature exhumation history enabled.\n",
    "    - As above, look at the definition of `age_predict` to see how to set the flags (`True`/`False` parameters) that allow you to enable the calculation of different thermochronometers.\n",
    "- Add a figure caption for the plot in the cell beneath it describing it as if it were in a scientific journal article."
   ]
  },
  {
   "cell_type": "code",
   "execution_count": null,
   "metadata": {
    "deletable": false,
    "nbgrader": {
     "checksum": "9598a8e4293987be509be3bf947ff896",
     "grade": true,
     "grade_id": "subplots",
     "locked": false,
     "points": 4,
     "schema_version": 1,
     "solution": true
    }
   },
   "outputs": [],
   "source": [
    "# YOUR CODE HERE\n",
    "raise NotImplementedError()"
   ]
  },
  {
   "cell_type": "markdown",
   "metadata": {
    "deletable": false,
    "nbgrader": {
     "checksum": "298c29fb2f289816a1eab3b069c3e481",
     "grade": true,
     "grade_id": "subplots_caption",
     "locked": false,
     "points": 1,
     "schema_version": 1,
     "solution": true
    }
   },
   "source": [
    "YOUR ANSWER HERE"
   ]
  },
  {
   "cell_type": "markdown",
   "metadata": {
    "deletable": false,
    "editable": false,
    "nbgrader": {
     "checksum": "aa9877df70ebc5d685cef6b5bc84415b",
     "grade": false,
     "grade_id": "cell-d8c03b21694d5992",
     "locked": true,
     "schema_version": 1,
     "solution": false
    }
   },
   "source": [
    "## Problem 2 - \"Fitting\" thermochronometer data (8 points)\n",
    "\n",
    "Using the code changes you have made in Problem 1, your goal is now to find the average long-term exhumation rates that provide good fits to the measured thermochronometer data."
   ]
  },
  {
   "cell_type": "markdown",
   "metadata": {
    "deletable": false,
    "editable": false,
    "nbgrader": {
     "checksum": "3ae6d3209faeb2ee54328766dedf4185",
     "grade": false,
     "grade_id": "cell-6b826e9dbe9c7082",
     "locked": true,
     "schema_version": 1,
     "solution": false
    }
   },
   "source": [
    "### Problem 2, Part 1: Fitting all the ages (2 points)\n",
    "\n",
    "We'll start this problem by minimizing the misfit value for all of the thermochronometer data in this part.\n",
    "\n",
    "For this part you should:\n",
    "\n",
    "- Call the `age_predict` function in a series of models where you change only the vertical advection velocity (exhumation rate) in order to find a minimum goodness-of-fit value for the whole thermochronometer age dataset (i.e., the total misfit).\n",
    "    - Call the age_predict function with calculation of the all three thermochronometer ages **and** the time-temperature exhumation history enabled.\n",
    "        - As above, look at the definition of `age_predict` to see how to set the flags (`True`/`False` parameters) that allow you to enable the calculation of different thermochronometers.\n",
    "    - You do not need to find the absolute minimum goodness-of-fit value, but rather the minimum value you get for advection velocities to the nearest 0.1 km/Ma.\n",
    "- Add a figure caption for the plot in the cell beneath it describing it as if it were in a scientific journal article.\n",
    "    - Be sure the advection velocity (exhumation rate) and misfit value are clearly displayed on the plot."
   ]
  },
  {
   "cell_type": "code",
   "execution_count": null,
   "metadata": {
    "deletable": false,
    "nbgrader": {
     "checksum": "52a15821b6a81276ff736089fd5dc1da",
     "grade": true,
     "grade_id": "total_misfit",
     "locked": false,
     "points": 1,
     "schema_version": 1,
     "solution": true
    }
   },
   "outputs": [],
   "source": [
    "# YOUR CODE HERE\n",
    "raise NotImplementedError()"
   ]
  },
  {
   "cell_type": "markdown",
   "metadata": {
    "deletable": false,
    "nbgrader": {
     "checksum": "16b83bffda975ae277c1aa23caf02f61",
     "grade": true,
     "grade_id": "total_misfit_caption",
     "locked": false,
     "points": 1,
     "schema_version": 1,
     "solution": true
    }
   },
   "source": [
    "YOUR ANSWER HERE"
   ]
  },
  {
   "cell_type": "markdown",
   "metadata": {
    "deletable": false,
    "editable": false,
    "nbgrader": {
     "checksum": "d60774d398e5b578e7ce8a5f5ed248f4",
     "grade": false,
     "grade_id": "cell-0e8d97e4df773c7f",
     "locked": true,
     "schema_version": 1,
     "solution": false
    }
   },
   "source": [
    "### Problem 2, Part 2: Fitting the apatite (U-Th)/He ages\n",
    "\n",
    "Now we can focus on fitting a single thermochronometer system.\n",
    "\n",
    "For this part you should:\n",
    "\n",
    "- Call the `age_predict` function in a series of models where you change only the vertical advection velocity (exhumation rate) in order to find a minimum goodness-of-fit value to the apatite (U-Th)/He age data.\n",
    "    - Call the age_predict function with calculation of the all three thermochronometer ages **and** the time-temperature exhumation history enabled.\n",
    "        - As above, look at the definition of `age_predict` to see how to set the flags (`True`/`False` parameters) that allow you to enable the calculation of different thermochronometers.\n",
    "    - You do not need to find the absolute minimum goodness-of-fit value, but rather the minimum value you get for advection velocities to the nearest 0.1 mm/a.\n",
    "- Add a figure caption for the plot in the cell beneath it describing it as if it were in a scientific journal article.\n",
    "    - Be sure the advection velocity (exhumation rate) and apatite (U-Th)/He misfit value are clearly displayed on the plot."
   ]
  },
  {
   "cell_type": "code",
   "execution_count": null,
   "metadata": {
    "deletable": false,
    "nbgrader": {
     "checksum": "85df77f8a94e637df46a33fb3e061d67",
     "grade": true,
     "grade_id": "ahe_misfit",
     "locked": false,
     "points": 1,
     "schema_version": 1,
     "solution": true
    }
   },
   "outputs": [],
   "source": [
    "# YOUR CODE HERE\n",
    "raise NotImplementedError()"
   ]
  },
  {
   "cell_type": "markdown",
   "metadata": {
    "deletable": false,
    "nbgrader": {
     "checksum": "d4ff9466b074c4b38cdaa4af6b22b67f",
     "grade": true,
     "grade_id": "ahe_misfit_caption",
     "locked": false,
     "points": 1,
     "schema_version": 1,
     "solution": true
    }
   },
   "source": [
    "YOUR ANSWER HERE"
   ]
  },
  {
   "cell_type": "markdown",
   "metadata": {
    "deletable": false,
    "editable": false,
    "nbgrader": {
     "checksum": "a7205f3355ddf97f1f2d701aead1738c",
     "grade": false,
     "grade_id": "cell-e4bef5795ad15e6c",
     "locked": true,
     "schema_version": 1,
     "solution": false
    }
   },
   "source": [
    "### Problem 2, Part 3: Fitting the zircon (U-Th)/He ages (2 points)\n",
    "\n",
    "Now we can focus on fitting a single thermochronometer system.\n",
    "\n",
    "For this part you should:\n",
    "\n",
    "- Call the `age_predict` function in a series of models where you change only the vertical advection velocity (exhumation rate) in order to find a minimum goodness-of-fit value to the zircon (U-Th)/He age data.\n",
    "    - Call the age_predict function with calculation of the all three thermochronometer ages **and** the time-temperature exhumation history enabled.\n",
    "        - As above, look at the definition of `age_predict` to see how to set the flags (`True`/`False` parameters) that allow you to enable the calculation of different thermochronometers.\n",
    "    - You do not need to find the absolute minimum goodness-of-fit value, but rather the minimum value you get for advection velocities to the nearest 0.1 mm/a.\n",
    "- Add a figure caption for the plot in the cell beneath it describing it as if it were in a scientific journal article.\n",
    "    - Be sure the advection velocity (exhumation rate) and zircon (U-Th)/He misfit value are clearly displayed on the plot."
   ]
  },
  {
   "cell_type": "code",
   "execution_count": null,
   "metadata": {
    "deletable": false,
    "nbgrader": {
     "checksum": "b0fc3f2f0ef703e9e8a2100deaf1dcab",
     "grade": true,
     "grade_id": "zhe_misfit",
     "locked": false,
     "points": 1,
     "schema_version": 1,
     "solution": true
    }
   },
   "outputs": [],
   "source": [
    "# YOUR CODE HERE\n",
    "raise NotImplementedError()"
   ]
  },
  {
   "cell_type": "markdown",
   "metadata": {
    "deletable": false,
    "nbgrader": {
     "checksum": "23e8748d769601be30d239050bcb2e45",
     "grade": true,
     "grade_id": "zhe_misfit_caption",
     "locked": false,
     "points": 1,
     "schema_version": 1,
     "solution": true
    }
   },
   "source": [
    "YOUR ANSWER HERE"
   ]
  },
  {
   "cell_type": "markdown",
   "metadata": {
    "deletable": false,
    "editable": false,
    "nbgrader": {
     "checksum": "bf30b857bdeb3b47575b3c1f89cf7333",
     "grade": false,
     "grade_id": "cell-40eb225d19dbcd1a",
     "locked": true,
     "schema_version": 1,
     "solution": false
    }
   },
   "source": [
    "### Problem 2, Part 4: Fitting the muscovite $^{40}$Ar/$^{39}$Ar ages (2 points)\n",
    "\n",
    "Now we can focus on fitting a single thermochronometer system.\n",
    "\n",
    "For this part you should:\n",
    "\n",
    "- Call the `age_predict` function in a series of models where you change only the vertical advection velocity (exhumation rate) in order to find a minimum goodness-of-fit value to the muscovite $^{40}$Ar/$^{39}$Ar age data.\n",
    "    - Call the age_predict function with calculation of the all three thermochronometer ages **and** the time-temperature exhumation history enabled.\n",
    "        - As above, look at the definition of `age_predict` to see how to set the flags (`True`/`False` parameters) that allow you to enable the calculation of different thermochronometers.\n",
    "    - You do not need to find the absolute minimum goodness-of-fit value, but rather the minimum value you get for advection velocities to the nearest 0.1 mm/a.\n",
    "- Add a figure caption for the plot in the cell beneath it describing it as if it were in a scientific journal article.\n",
    "    - Be sure the advection velocity (exhumation rate) and muscovite $^{40}$Ar/$^{39}$Ar misfit value are clearly displayed on the plot."
   ]
  },
  {
   "cell_type": "code",
   "execution_count": null,
   "metadata": {
    "deletable": false,
    "nbgrader": {
     "checksum": "bbc0c7b07f81ef6a6ef758d049948e28",
     "grade": true,
     "grade_id": "mar_misfit",
     "locked": false,
     "points": 1,
     "schema_version": 1,
     "solution": true
    }
   },
   "outputs": [],
   "source": [
    "# YOUR CODE HERE\n",
    "raise NotImplementedError()"
   ]
  },
  {
   "cell_type": "markdown",
   "metadata": {
    "deletable": false,
    "nbgrader": {
     "checksum": "d12cbcc46007ecad2a987143384981b0",
     "grade": true,
     "grade_id": "mar_misfit_caption",
     "locked": false,
     "points": 1,
     "schema_version": 1,
     "solution": true
    }
   },
   "source": [
    "YOUR ANSWER HERE"
   ]
  },
  {
   "cell_type": "markdown",
   "metadata": {
    "deletable": false,
    "editable": false,
    "nbgrader": {
     "checksum": "a0594b5ea5d02b2e633ad3cd6f7327d0",
     "grade": false,
     "grade_id": "cell-ae9f13ed81b4210b",
     "locked": true,
     "schema_version": 1,
     "solution": false
    }
   },
   "source": [
    "## References\n",
    "\n",
    "Coutand, I., Whipp, D. M., Grujic, D., Bernet, M., Fellin, M. G., Bookhagen, B., et al. (2014). [Geometry and kinematics of the Main Himalayan Thrust and Neogene crustal exhumation in the Bhutanese Himalaya derived from inversion of multithermochronologic data](https://dx.doi.org/10.1002/2013JB010891). *Journal of Geophysical Research: Solid Earth*.\n",
    "\n",
    "Stüwe, K., & Foster, D. (2001). [<sup>40</sup>Ar/<sup>39</sup>Ar, pressure, temperature and fission track constraints on the age and nature of metamorphism around the main central thrust in the eastern Bhutan Himalaya](https://www.sciencedirect.com/science/article/pii/S1367912000000183). *Journal of Asian Earth Sciences*, 19(1), 85–95."
   ]
  }
 ],
 "metadata": {
  "kernelspec": {
   "display_name": "Python 3",
   "language": "python",
   "name": "python3"
  },
  "language_info": {
   "codemirror_mode": {
    "name": "ipython",
    "version": 3
   },
   "file_extension": ".py",
   "mimetype": "text/x-python",
   "name": "python",
   "nbconvert_exporter": "python",
   "pygments_lexer": "ipython3",
   "version": "3.6.4"
  }
 },
 "nbformat": 4,
 "nbformat_minor": 2
}
